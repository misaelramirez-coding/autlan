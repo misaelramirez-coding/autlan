{
 "cells": [
  {
   "cell_type": "markdown",
   "metadata": {},
   "source": [
    "# Variables Research (Part III - Sales)\n",
    "\n",
    "### `Misael Ramirez - A00821781`\n",
    "\n",
    "![](autlan-logo.png)\n",
    "\n",
    "In this notebook, we will perform a research for a financial forecast of variables which driver is directly related with sales. Sales are divided in the following:\n",
    "1. *Mining-Metallurgical Manganese Products*\n",
    "2. *Energy*\n",
    "3. *Precious Metals*\n",
    "\n",
    "Nonetheless, the contribution of the **energy** division is technically none, since the resources related with energy are used in the mines possesed by Autlán to perform the extraction of minerals, manganese for the most part. As stated in 2Q14 report: \n",
    "> \"The electricity generation of the Atexcaco hydroelectric plant was favored by the constant flow of water during the dry months, so its generation grew 56%, contributing 30% of Autlán's needs and representing savings in the first half of the year of 40.2 million MXN\"\n",
    "\n",
    "**Source:** Autlan"
   ]
  },
  {
   "cell_type": "code",
   "execution_count": null,
   "metadata": {},
   "outputs": [],
   "source": []
  }
 ],
 "metadata": {
  "kernelspec": {
   "display_name": "Python 3.7.4 64-bit ('base': conda)",
   "language": "python",
   "name": "python37464bitbaseconda817dd0600e014ada99628fe73c3e0480"
  },
  "language_info": {
   "codemirror_mode": {
    "name": "ipython",
    "version": 3
   },
   "file_extension": ".py",
   "mimetype": "text/x-python",
   "name": "python",
   "nbconvert_exporter": "python",
   "pygments_lexer": "ipython3",
   "version": "3.7.4"
  }
 },
 "nbformat": 4,
 "nbformat_minor": 4
}
