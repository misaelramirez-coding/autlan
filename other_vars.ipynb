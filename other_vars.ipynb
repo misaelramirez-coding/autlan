{
 "cells": [
  {
   "cell_type": "markdown",
   "metadata": {},
   "source": [
    "# Variables Research (Part IV - Sales Related Variables)\n",
    "\n",
    "### `Misael Ramirez - A00821781`\n",
    "\n",
    "<img src=\"autlan-logo.png\" alt=\"Autlan logo\">\n",
    "\n",
    "\n",
    "In this notebook, we will perform a research for a financial forecast of variables which driver is directly related with sales. Sales are divided in the following:\n",
    "1. *Mining-Metallurgical Manganese Products*\n",
    "2. *Energy*\n",
    "3. *Precious Metals*\n",
    "\n",
    "Nonetheless, the contribution of the **energy** division is technically none, since the resources related with energy are used in the mines possesed by Autlán to perform the extraction of minerals, manganese for the most part. As stated in 2Q14 report: \n",
    "> \"The electricity generation of the Atexcaco hydroelectric plant was favored by the constant flow of water during the dry months, so its generation grew 56%, contributing 30% of Autlán's needs and representing savings in the first half of the year of 40.2 million MXN\"\n",
    "\n",
    "**Source:** Autlan\n",
    "\n",
    "Now, we will focus on variables that use sales as a driver too, but this are more related with the way Autlán operates based on the forecasted sales."
   ]
  },
  {
   "cell_type": "code",
   "execution_count": 4,
   "metadata": {},
   "outputs": [],
   "source": [
    "# import required libraries \n",
    "import seaborn as sns\n",
    "import numpy as np\n",
    "import pandas as pd\n",
    "import matplotlib.pyplot as plt\n",
    "import matplotlib as mpl\n",
    "\n",
    "# setting up future plots\n",
    "sns.set_style(  \n",
    "    \"darkgrid\",  \n",
    "    {  \n",
    "        'legend.frameon': True,  \n",
    "    }  \n",
    ")\n",
    "mpl.rc('figure', figsize=(14, 8))"
   ]
  },
  {
   "cell_type": "markdown",
   "metadata": {},
   "source": [
    "## Forecast Cost of Gods Sold (2020-2025)\n",
    "\n",
    "We perform a linear regression with the power of machine learning, dividing our data for trainign and the prediction itself. The COGS for FY20 will be calculated with the Sales from that same year we estimated through our research. \n",
    "\n",
    "The way we calculate gradients will be different, instead of modeling the next monetary quantity of COGS for the next years we will focus on the gradients directly for the forecast model. The percentage of COGS does not vary a lot over time (not even the gradient for FY20 which comes from forecasted numbers, COGS and Sales respectively), and this can be seen in its variance over time, which is `5.2415`, considering that we are considering millions of dollars, it doesn't change as much.\n",
    "\n",
    "We will use the following logic for the gradients\n",
    "\n",
    ">**The years that the team considered of economic slowdown (FY20-FY22) will show a constat gradient of `plus 2 percent` in COGS until arriving to the years of economic recovery where COGS will show a constant gradient of `minus 2 percent`**\n",
    "\n",
    "This results in variables show a tendency very similar to the previous five years of analysis"
   ]
  },
  {
   "cell_type": "code",
   "execution_count": 28,
   "metadata": {},
   "outputs": [
    {
     "name": "stdout",
     "output_type": "stream",
     "text": [
      "COSG FY2014-FY2019: \n",
      "[[244.723]\n",
      " [189.118]\n",
      " [152.038]\n",
      " [196.723]\n",
      " [275.567]\n",
      " [285.362]]\n",
      "\n",
      "Sales FY2014-FY2019:\n",
      "[[338.04 ]\n",
      " [267.729]\n",
      " [230.711]\n",
      " [359.34 ]\n",
      " [413.504]\n",
      " [420.128]]\n",
      "\n",
      "Predicted Sales FY20: [[320.35]]\n",
      "\n",
      "COGS FY20: [[212.62949882]]\n"
     ]
    }
   ],
   "source": [
    "# import required libraries\n",
    "from sklearn.linear_model import LinearRegression \n",
    "\n",
    "# create data for model\n",
    "data = pd.read_excel('other_vars.xlsx', sheet_name='COGS_1')\n",
    "data = data.drop('Date', axis=1)\n",
    "\n",
    "Y_train = data['COGS'].values.reshape(-1, 1)\n",
    "X_train = data['Sales'].values.reshape(-1, 1)\n",
    "X_test = np.array([320.35]).reshape(-1, 1)\n",
    "\n",
    "print('COSG FY2014-FY2019: \\n{}\\n'.format(Y_train))\n",
    "print('Sales FY2014-FY2019:\\n{}\\n'.format(X_train))\n",
    "print('Predicted Sales FY20: {}\\n'.format(X_test))\n",
    "\n",
    "# create model\n",
    "reg = LinearRegression()\n",
    "reg.fit(X_train,Y_train)\n",
    "y_pred = reg.predict(X_test)\n",
    "print('COGS FY20: {}'.format(y_pred))"
   ]
  },
  {
   "cell_type": "code",
   "execution_count": 26,
   "metadata": {},
   "outputs": [
    {
     "name": "stdout",
     "output_type": "stream",
     "text": [
      "Standard Deviation: 5.241501965767337\n"
     ]
    },
    {
     "data": {
      "text/html": [
       "<div>\n",
       "<style scoped>\n",
       "    .dataframe tbody tr th:only-of-type {\n",
       "        vertical-align: middle;\n",
       "    }\n",
       "\n",
       "    .dataframe tbody tr th {\n",
       "        vertical-align: top;\n",
       "    }\n",
       "\n",
       "    .dataframe thead th {\n",
       "        text-align: right;\n",
       "    }\n",
       "</style>\n",
       "<table border=\"1\" class=\"dataframe\">\n",
       "  <thead>\n",
       "    <tr style=\"text-align: right;\">\n",
       "      <th></th>\n",
       "      <th>Date</th>\n",
       "      <th>Sales</th>\n",
       "      <th>COGS</th>\n",
       "      <th>%</th>\n",
       "    </tr>\n",
       "  </thead>\n",
       "  <tbody>\n",
       "    <tr>\n",
       "      <th>0</th>\n",
       "      <td>2014-12-31</td>\n",
       "      <td>338.040000</td>\n",
       "      <td>244.723000</td>\n",
       "      <td>0.723900</td>\n",
       "    </tr>\n",
       "    <tr>\n",
       "      <th>1</th>\n",
       "      <td>2015-12-31</td>\n",
       "      <td>267.729000</td>\n",
       "      <td>189.118000</td>\n",
       "      <td>0.706400</td>\n",
       "    </tr>\n",
       "    <tr>\n",
       "      <th>2</th>\n",
       "      <td>2016-12-31</td>\n",
       "      <td>230.711000</td>\n",
       "      <td>152.038000</td>\n",
       "      <td>0.659000</td>\n",
       "    </tr>\n",
       "    <tr>\n",
       "      <th>3</th>\n",
       "      <td>2017-12-31</td>\n",
       "      <td>359.340000</td>\n",
       "      <td>196.723000</td>\n",
       "      <td>0.547500</td>\n",
       "    </tr>\n",
       "    <tr>\n",
       "      <th>4</th>\n",
       "      <td>2018-12-31</td>\n",
       "      <td>413.504000</td>\n",
       "      <td>275.567000</td>\n",
       "      <td>0.666400</td>\n",
       "    </tr>\n",
       "    <tr>\n",
       "      <th>5</th>\n",
       "      <td>2019-12-31</td>\n",
       "      <td>420.128000</td>\n",
       "      <td>285.362000</td>\n",
       "      <td>0.679200</td>\n",
       "    </tr>\n",
       "    <tr>\n",
       "      <th>6</th>\n",
       "      <td>2020-12-31</td>\n",
       "      <td>320.350000</td>\n",
       "      <td>212.629000</td>\n",
       "      <td>0.663740</td>\n",
       "    </tr>\n",
       "    <tr>\n",
       "      <th>7</th>\n",
       "      <td>2021-12-31</td>\n",
       "      <td>317.909690</td>\n",
       "      <td>216.881580</td>\n",
       "      <td>0.682211</td>\n",
       "    </tr>\n",
       "    <tr>\n",
       "      <th>8</th>\n",
       "      <td>2022-12-31</td>\n",
       "      <td>315.851145</td>\n",
       "      <td>221.219212</td>\n",
       "      <td>0.700391</td>\n",
       "    </tr>\n",
       "    <tr>\n",
       "      <th>9</th>\n",
       "      <td>2023-12-31</td>\n",
       "      <td>325.756420</td>\n",
       "      <td>216.794827</td>\n",
       "      <td>0.665512</td>\n",
       "    </tr>\n",
       "    <tr>\n",
       "      <th>10</th>\n",
       "      <td>2024-12-31</td>\n",
       "      <td>353.382093</td>\n",
       "      <td>212.458931</td>\n",
       "      <td>0.601216</td>\n",
       "    </tr>\n",
       "    <tr>\n",
       "      <th>11</th>\n",
       "      <td>2025-12-31</td>\n",
       "      <td>385.469342</td>\n",
       "      <td>208.209752</td>\n",
       "      <td>0.540146</td>\n",
       "    </tr>\n",
       "  </tbody>\n",
       "</table>\n",
       "</div>"
      ],
      "text/plain": [
       "          Date       Sales        COGS         %\n",
       "0   2014-12-31  338.040000  244.723000  0.723900\n",
       "1   2015-12-31  267.729000  189.118000  0.706400\n",
       "2   2016-12-31  230.711000  152.038000  0.659000\n",
       "3   2017-12-31  359.340000  196.723000  0.547500\n",
       "4   2018-12-31  413.504000  275.567000  0.666400\n",
       "5   2019-12-31  420.128000  285.362000  0.679200\n",
       "6   2020-12-31  320.350000  212.629000  0.663740\n",
       "7   2021-12-31  317.909690  216.881580  0.682211\n",
       "8   2022-12-31  315.851145  221.219212  0.700391\n",
       "9   2023-12-31  325.756420  216.794827  0.665512\n",
       "10  2024-12-31  353.382093  212.458931  0.601216\n",
       "11  2025-12-31  385.469342  208.209752  0.540146"
      ]
     },
     "metadata": {},
     "output_type": "display_data"
    }
   ],
   "source": [
    "print('Standard Deviation: {}'.format(np.std([72.39, 70.64, 65.90, 54.75, 66.64, 67.92, 66])))\n",
    "data = pd.read_excel('other_vars.xlsx', sheet_name='COGS_2')\n",
    "display(data)"
   ]
  },
  {
   "cell_type": "markdown",
   "metadata": {},
   "source": [
    "## Forecast of General Expenses (2020-2025)\n",
    "\n",
    "> Similar low variance gradients such as cost of good sols\n",
    "\n",
    "> Follow similar gradient logic as COGS"
   ]
  },
  {
   "cell_type": "markdown",
   "metadata": {},
   "source": [
    "## Capital Expenditure (CAPEX)\n",
    "\n",
    "Due to the economic uncertainty, unnecesary risks will not be taken, we keep a low CAPEX such as 2016 and 2017, which is before acquiring Metallorum and having a 55% increase in CAPEX.\n",
    "\n",
    "As a conclusion, we will apply the following logic for the gradients:\n",
    "\n",
    ">**The forecast will be a low variance gradient such as FY16 and Fy17 with a base gradient of 3% which increases 75% of the previous FY each year as the economic turmoil passes and opens more investment opportunities for autlán and allows to improve the management operations of Metallorum**"
   ]
  },
  {
   "cell_type": "markdown",
   "metadata": {},
   "source": [
    "## Días Cuentas por Cobrar\n",
    "\n",
    "> Similar low variance gradients such as cost of good sols\n",
    "\n",
    "> Follow similar gradient logic as COGS"
   ]
  },
  {
   "cell_type": "markdown",
   "metadata": {},
   "source": [
    "## Días Inventarios\n",
    "\n",
    "> Similar low variance gradients such as cost of good sols\n",
    "\n",
    "> Follow similar gradient logic as COGS"
   ]
  },
  {
   "cell_type": "markdown",
   "metadata": {},
   "source": [
    "## Días Proveedores\n",
    "\n",
    "> Similar low variance gradients such as cost of good sols\n",
    "\n",
    "> Follow similar gradient logic as COGS"
   ]
  },
  {
   "cell_type": "code",
   "execution_count": null,
   "metadata": {},
   "outputs": [],
   "source": []
  }
 ],
 "metadata": {
  "kernelspec": {
   "display_name": "Python 3.7.4 64-bit ('base': conda)",
   "language": "python",
   "name": "python37464bitbaseconda817dd0600e014ada99628fe73c3e0480"
  },
  "language_info": {
   "codemirror_mode": {
    "name": "ipython",
    "version": 3
   },
   "file_extension": ".py",
   "mimetype": "text/x-python",
   "name": "python",
   "nbconvert_exporter": "python",
   "pygments_lexer": "ipython3",
   "version": "3.7.4"
  }
 },
 "nbformat": 4,
 "nbformat_minor": 4
}
